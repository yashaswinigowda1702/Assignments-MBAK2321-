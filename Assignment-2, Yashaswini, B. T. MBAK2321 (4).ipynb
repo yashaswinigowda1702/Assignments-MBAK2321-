{
 "cells": [
  {
   "cell_type": "code",
   "execution_count": 110,
   "id": "9bba0b0d-3f77-4e14-a361-84ab449e7063",
   "metadata": {},
   "outputs": [],
   "source": [
    "import pandas as pd\n",
    "import numpy as np\n",
    "from scipy import stats\n",
    "import statsmodels.api as sm\n",
    "import seaborn as sns\n",
    "import matplotlib.pyplot as plt"
   ]
  },
  {
   "cell_type": "code",
   "execution_count": 111,
   "id": "7e052a40-c393-44e3-99ce-a97c7c5da1ed",
   "metadata": {},
   "outputs": [],
   "source": [
    "Rocinante_mileage = [21.2,21.79,21.87,22.71,22.52,21.41,22.71,21.71,19.95,20.65,22.86,21.12,22.8,20.89,22.49,20.94,20.37,22.72,20.54,21.14,]"
   ]
  },
  {
   "cell_type": "markdown",
   "id": "e6771bb9-8b16-410b-8627-f7c1fae8d444",
   "metadata": {},
   "source": [
    "### Q-2) In order to comment on whether or not the design specifications are being matched, perform relevant hypothesis tests and calculate the p-values for each model. What will you conclude? Assume that you are performing the tests at a 95% confidence level."
   ]
  },
  {
   "cell_type": "code",
   "execution_count": 112,
   "id": "6e586d9c-31d9-45c7-aff7-bd9d98e637e4",
   "metadata": {},
   "outputs": [],
   "source": [
    "# Hypothesized mean for comparisons\n",
    "hypothesized_mileage_mean = 22"
   ]
  },
  {
   "cell_type": "code",
   "execution_count": 113,
   "id": "32660e45-e4b1-400a-bc2a-a831796fc8df",
   "metadata": {},
   "outputs": [],
   "source": [
    "# Perform the one-sample t-test\n",
    "t_stat, p_value = stats.ttest_1samp(Rocinante_mileage, hypothesized_mileage_mean)"
   ]
  },
  {
   "cell_type": "code",
   "execution_count": 114,
   "id": "f673c04a-5834-4a6d-91b0-5c67399235ef",
   "metadata": {},
   "outputs": [
    {
     "name": "stdout",
     "output_type": "stream",
     "text": [
      "T-statistic: -1.8351\n",
      "P-value: 0.0822\n"
     ]
    }
   ],
   "source": [
    "# Print the results\n",
    "print(f\"T-statistic: {t_stat:.4f}\")\n",
    "print(f\"P-value: {p_value:.4f}\")"
   ]
  },
  {
   "cell_type": "code",
   "execution_count": 115,
   "id": "854668b9-0aee-4c7c-88b6-9d604047ac04",
   "metadata": {},
   "outputs": [],
   "source": [
    "# Interpretation of the test results\n",
    "alpha = 0.05 # Significance level"
   ]
  },
  {
   "cell_type": "code",
   "execution_count": 116,
   "id": "2490890e-6dcc-48ea-b102-77bda6633330",
   "metadata": {},
   "outputs": [
    {
     "name": "stdout",
     "output_type": "stream",
     "text": [
      "The Rocinante mileage is not significantly different from the hypothesized mean.\n"
     ]
    }
   ],
   "source": [
    "if p_value < alpha:\n",
    "    print(\"The Rocinante mileage is significantly different from the hypothesized mean.\")\n",
    "else:\n",
    "    print(\"The Rocinante mileage is not significantly different from the hypothesized mean.\")"
   ]
  },
  {
   "cell_type": "code",
   "execution_count": 117,
   "id": "ec4e42e1-9a29-4bde-8adf-b3c54ad1b984",
   "metadata": {},
   "outputs": [],
   "source": [
    "Rocinante_topspeed = [151.9,147.6,145.6,136.1,139.7,146.1,139.6,143,136.4,146.6,139.9,136.6,148.5,143.4,134.2,140.5,137.8,135.1,138.8,132]"
   ]
  },
  {
   "cell_type": "code",
   "execution_count": 118,
   "id": "184ea4f9-09bc-443e-932d-37a41cf9d1f1",
   "metadata": {},
   "outputs": [],
   "source": [
    "# Hypothesized mean for comparison (expected benchmark)\n",
    "hypothesized_topspeed_mean = 140"
   ]
  },
  {
   "cell_type": "code",
   "execution_count": 119,
   "id": "e219be02-749c-4e4f-ab65-9719e7051ae6",
   "metadata": {},
   "outputs": [],
   "source": [
    "# Perform the one-sample t-test\n",
    "t_stat, p_value = stats.ttest_1samp(Rocinante_topspeed, hypothesized_topspeed_mean)"
   ]
  },
  {
   "cell_type": "code",
   "execution_count": 120,
   "id": "64576515-49a9-448e-80be-d95b39058b3f",
   "metadata": {},
   "outputs": [
    {
     "name": "stdout",
     "output_type": "stream",
     "text": [
      "T-statistic: 0.8036\n",
      "P-value: 0.4316\n"
     ]
    }
   ],
   "source": [
    "# Print the results\n",
    "print(f\"T-statistic: {t_stat:.4f}\")\n",
    "print(f\"P-value: {p_value:.4f}\")"
   ]
  },
  {
   "cell_type": "code",
   "execution_count": 121,
   "id": "83312710-ac66-47f4-81a0-99c59f378540",
   "metadata": {},
   "outputs": [],
   "source": [
    "# Interpretation of the test results\n",
    "alpha = 0.05 # Significance level"
   ]
  },
  {
   "cell_type": "code",
   "execution_count": 122,
   "id": "db5b902b-c253-4894-b9a8-c4b31cdc0459",
   "metadata": {},
   "outputs": [
    {
     "name": "stdout",
     "output_type": "stream",
     "text": [
      "The Rocinante top speed is not significantly different from the hypothesized mean.\n"
     ]
    }
   ],
   "source": [
    "if p_value < alpha:\n",
    "    print(\"The Rocinante top speed is significantly different from the hypothesized mean.\")\n",
    "else:\n",
    "    print(\"The Rocinante top speed is not significantly different from the hypothesized mean.\")"
   ]
  },
  {
   "cell_type": "code",
   "execution_count": 123,
   "id": "108d9206-8ae5-4ad5-84b1-992a5082b94d",
   "metadata": {},
   "outputs": [],
   "source": [
    "Marengo_mileage = [15.04,15.41,15.43,15.92,15.2,15.22,14.6,14.41,14.79,14.81,15.61,15.76,14.97,14.71,15.55,15.19,15.36,15.93,14.54,14.76]"
   ]
  },
  {
   "cell_type": "code",
   "execution_count": 124,
   "id": "c34a882d-483f-4fab-98a5-08e0caf00f8c",
   "metadata": {},
   "outputs": [],
   "source": [
    "# Hypothesized mean mileage (benchmark for comparison)\n",
    "hypothesized_mileage_mean = 15"
   ]
  },
  {
   "cell_type": "code",
   "execution_count": 125,
   "id": "1962455f-1815-4e13-a665-b72f270709cf",
   "metadata": {},
   "outputs": [],
   "source": [
    "# Perform the one-sample t-test\n",
    "t_stat, p_value = stats.ttest_1samp(Marengo_mileage, hypothesized_mileage_mean)"
   ]
  },
  {
   "cell_type": "code",
   "execution_count": 126,
   "id": "e312f831-99fd-47d2-b48b-e5d388f5fbab",
   "metadata": {},
   "outputs": [
    {
     "name": "stdout",
     "output_type": "stream",
     "text": [
      "T-statistic: 1.5645\n",
      "P-value: 0.1342\n"
     ]
    }
   ],
   "source": [
    "# Print the results\n",
    "print(f\"T-statistic: {t_stat:.4f}\")\n",
    "print(f\"P-value: {p_value:.4f}\")"
   ]
  },
  {
   "cell_type": "code",
   "execution_count": 127,
   "id": "8234fda9-0584-407b-a305-944a37255f6b",
   "metadata": {},
   "outputs": [],
   "source": [
    "# Interpretation of the test results\n",
    "alpha = 0.05  # Significance leve"
   ]
  },
  {
   "cell_type": "code",
   "execution_count": 128,
   "id": "dd66b16e-a792-450b-a6b6-fa03882482c9",
   "metadata": {},
   "outputs": [
    {
     "name": "stdout",
     "output_type": "stream",
     "text": [
      "The Marengo mileage is not significantly different from the hypothesized mean.\n"
     ]
    }
   ],
   "source": [
    "if p_value < alpha:\n",
    "    print(\"The Marengo mileage is significantly different from the hypothesized mean.\")\n",
    "else:\n",
    "    print(\"The Marengo mileage is not significantly different from the hypothesized mean.\")"
   ]
  },
  {
   "cell_type": "code",
   "execution_count": 129,
   "id": "50e91b2a-961f-49d5-92a9-c8327189aa3f",
   "metadata": {},
   "outputs": [],
   "source": [
    "Marengo_topspeed = [211.3,207,206.2,213.4,204.2,208.7,200,210.9,208.5,214.2,215.8,215.8,215.2,218.7,208,212.2,219.7,216.4,205.8,209]"
   ]
  },
  {
   "cell_type": "code",
   "execution_count": 130,
   "id": "47747a4e-9be5-4015-9960-a0be55fb0f8c",
   "metadata": {},
   "outputs": [],
   "source": [
    "# Hypothesized mean for comparison\n",
    "hypothesized_topspeed_mean = 210 "
   ]
  },
  {
   "cell_type": "code",
   "execution_count": 131,
   "id": "252e8b4c-adef-4c29-b83f-3a6cf18c446b",
   "metadata": {},
   "outputs": [],
   "source": [
    "# Perform the one-sample t-test\n",
    "t_stat, p_value = stats.ttest_1samp(Marengo_topspeed, hypothesized_topspeed_mean)"
   ]
  },
  {
   "cell_type": "code",
   "execution_count": 132,
   "id": "c3003dfd-eaf4-4d58-8b45-154a3aa442c0",
   "metadata": {},
   "outputs": [
    {
     "name": "stdout",
     "output_type": "stream",
     "text": [
      "T-statistic: 0.9124\n",
      "P-value: 0.3730\n"
     ]
    }
   ],
   "source": [
    "# Print the results\n",
    "print(f\"T-statistic: {t_stat:.4f}\")\n",
    "print(f\"P-value: {p_value:.4f}\")"
   ]
  },
  {
   "cell_type": "code",
   "execution_count": 133,
   "id": "7ebb3fd4-3fb8-49dc-abd6-f3a042a00147",
   "metadata": {},
   "outputs": [],
   "source": [
    "# Interpretation of the test results\n",
    "alpha = 0.05  # Significance level"
   ]
  },
  {
   "cell_type": "code",
   "execution_count": 134,
   "id": "a278a50b-d3c5-4e59-84d9-f59cf1ebe2f4",
   "metadata": {},
   "outputs": [
    {
     "name": "stdout",
     "output_type": "stream",
     "text": [
      "The Marengo top speed is not significantly different from the hypothesized mean.\n"
     ]
    }
   ],
   "source": [
    "if p_value < alpha:\n",
    "    print(\"The Marengo top speed is significantly different from the hypothesized mean.\")\n",
    "else:\n",
    "    print(\"The Marengo top speed is not significantly different from the hypothesized mean.\")"
   ]
  },
  {
   "cell_type": "markdown",
   "id": "e18d21ad-c53a-472e-8366-3141a2c8023b",
   "metadata": {},
   "source": [
    "### Q-4) Develop a regression equation for each model at a 95% confidence level. Using the regression equation, predict the sales of the two models. State the hypothesis assumption for the overall test and individual variables.\n",
    "#### a)\tOverall significance of regression and significance of individual variables\n",
    "#### b)\tPredict the sales at specified price, mileage and top speed for the models\n",
    "#### c)\tIncrease the puts values by 5% and check the sales\n",
    "#### d)\tDecrease the puts values by 5% and check the saleses\r\n"
   ]
  },
  {
   "cell_type": "markdown",
   "id": "6d5ec9ab-fcba-4300-9224-2eccc327606a",
   "metadata": {},
   "source": [
    "## For Rocinante model"
   ]
  },
  {
   "cell_type": "code",
   "execution_count": 135,
   "id": "c2b1e73c-65b4-4f77-99e0-87001aa12982",
   "metadata": {},
   "outputs": [],
   "source": [
    "Rocinante_data = { \n",
    "    'Sales': [171.877,139.796,178.947,140.022,186.476,192.123,175.085,146.882,202.847,149.933,171.579,201.512,142.604,135.158,107.322,199.699,202.875,204.406,107.331,190.345,108.419,150.249,155.882,100.98,182.679,166.752,121.561,174.256,119.018,169.842,198.311,204.875,119.561,203.875,118.561],\n",
    "    'Price': [6.1,6.1,9.9,5.8,10,6.5,5.5,8.4,6.6,8.8,9.5,9.2,8.1,5.4,5.6,6.3,5.8,7.7,7.2,8.4,8.4,5.7,5.5,8.4,5.6,9.9,6.2,9.9,6.5,7.1,9.6,5.8,6.2,5.9,6.1],\n",
    "    'Mileage': [15.8, 12.1, 17, 11.6, 17.2, 17.6, 16, 13, 19.3, 13.3, 15.8, 19.2, 11.7, 11.2, 7.8, 19, 19.7, 19.5, 7.5, 18.1, 7.9, 12.6, 12.9, 7.6, 16.7, 15.5, 9.5, 16.3, 9.1, 15.3, 19.1, 19.4, 9.4, 19.4, 9.4],\n",
    "    'Top_speed': [168.2, 149.6, 173.4, 170.6, 175, 173.1, 184.6, 175.7, 166.7, 175.4, 150.9, 140.5, 150.2, 146.2, 151.2, 143.2, 178.9, 168.2, 164.7, 182.7, 165.7, 137, 173.9, 165.1, 160.1, 155.6, 155.4, 161.9, 146.8, 149.5, 146.5, 178.9, 175.4, 175.9, 165.4]\n",
    "}"
   ]
  },
  {
   "cell_type": "code",
   "execution_count": 136,
   "id": "a7ca197f-229e-4a3c-8e68-372d0b3028f2",
   "metadata": {},
   "outputs": [],
   "source": [
    "# Create a DataFrame\n",
    "df = pd.DataFrame(Rocinante_data)"
   ]
  },
  {
   "cell_type": "code",
   "execution_count": 137,
   "id": "af51f565-8d46-48f2-83c7-97a5b063dd79",
   "metadata": {},
   "outputs": [
    {
     "data": {
      "text/html": [
       "<div>\n",
       "<style scoped>\n",
       "    .dataframe tbody tr th:only-of-type {\n",
       "        vertical-align: middle;\n",
       "    }\n",
       "\n",
       "    .dataframe tbody tr th {\n",
       "        vertical-align: top;\n",
       "    }\n",
       "\n",
       "    .dataframe thead th {\n",
       "        text-align: right;\n",
       "    }\n",
       "</style>\n",
       "<table border=\"1\" class=\"dataframe\">\n",
       "  <thead>\n",
       "    <tr style=\"text-align: right;\">\n",
       "      <th></th>\n",
       "      <th>Sales</th>\n",
       "      <th>Price</th>\n",
       "      <th>Mileage</th>\n",
       "      <th>Top_speed</th>\n",
       "    </tr>\n",
       "  </thead>\n",
       "  <tbody>\n",
       "    <tr>\n",
       "      <th>0</th>\n",
       "      <td>171.877</td>\n",
       "      <td>6.1</td>\n",
       "      <td>15.8</td>\n",
       "      <td>168.2</td>\n",
       "    </tr>\n",
       "    <tr>\n",
       "      <th>1</th>\n",
       "      <td>139.796</td>\n",
       "      <td>6.1</td>\n",
       "      <td>12.1</td>\n",
       "      <td>149.6</td>\n",
       "    </tr>\n",
       "    <tr>\n",
       "      <th>2</th>\n",
       "      <td>178.947</td>\n",
       "      <td>9.9</td>\n",
       "      <td>17.0</td>\n",
       "      <td>173.4</td>\n",
       "    </tr>\n",
       "    <tr>\n",
       "      <th>3</th>\n",
       "      <td>140.022</td>\n",
       "      <td>5.8</td>\n",
       "      <td>11.6</td>\n",
       "      <td>170.6</td>\n",
       "    </tr>\n",
       "    <tr>\n",
       "      <th>4</th>\n",
       "      <td>186.476</td>\n",
       "      <td>10.0</td>\n",
       "      <td>17.2</td>\n",
       "      <td>175.0</td>\n",
       "    </tr>\n",
       "    <tr>\n",
       "      <th>5</th>\n",
       "      <td>192.123</td>\n",
       "      <td>6.5</td>\n",
       "      <td>17.6</td>\n",
       "      <td>173.1</td>\n",
       "    </tr>\n",
       "    <tr>\n",
       "      <th>6</th>\n",
       "      <td>175.085</td>\n",
       "      <td>5.5</td>\n",
       "      <td>16.0</td>\n",
       "      <td>184.6</td>\n",
       "    </tr>\n",
       "    <tr>\n",
       "      <th>7</th>\n",
       "      <td>146.882</td>\n",
       "      <td>8.4</td>\n",
       "      <td>13.0</td>\n",
       "      <td>175.7</td>\n",
       "    </tr>\n",
       "    <tr>\n",
       "      <th>8</th>\n",
       "      <td>202.847</td>\n",
       "      <td>6.6</td>\n",
       "      <td>19.3</td>\n",
       "      <td>166.7</td>\n",
       "    </tr>\n",
       "    <tr>\n",
       "      <th>9</th>\n",
       "      <td>149.933</td>\n",
       "      <td>8.8</td>\n",
       "      <td>13.3</td>\n",
       "      <td>175.4</td>\n",
       "    </tr>\n",
       "    <tr>\n",
       "      <th>10</th>\n",
       "      <td>171.579</td>\n",
       "      <td>9.5</td>\n",
       "      <td>15.8</td>\n",
       "      <td>150.9</td>\n",
       "    </tr>\n",
       "    <tr>\n",
       "      <th>11</th>\n",
       "      <td>201.512</td>\n",
       "      <td>9.2</td>\n",
       "      <td>19.2</td>\n",
       "      <td>140.5</td>\n",
       "    </tr>\n",
       "    <tr>\n",
       "      <th>12</th>\n",
       "      <td>142.604</td>\n",
       "      <td>8.1</td>\n",
       "      <td>11.7</td>\n",
       "      <td>150.2</td>\n",
       "    </tr>\n",
       "    <tr>\n",
       "      <th>13</th>\n",
       "      <td>135.158</td>\n",
       "      <td>5.4</td>\n",
       "      <td>11.2</td>\n",
       "      <td>146.2</td>\n",
       "    </tr>\n",
       "    <tr>\n",
       "      <th>14</th>\n",
       "      <td>107.322</td>\n",
       "      <td>5.6</td>\n",
       "      <td>7.8</td>\n",
       "      <td>151.2</td>\n",
       "    </tr>\n",
       "    <tr>\n",
       "      <th>15</th>\n",
       "      <td>199.699</td>\n",
       "      <td>6.3</td>\n",
       "      <td>19.0</td>\n",
       "      <td>143.2</td>\n",
       "    </tr>\n",
       "    <tr>\n",
       "      <th>16</th>\n",
       "      <td>202.875</td>\n",
       "      <td>5.8</td>\n",
       "      <td>19.7</td>\n",
       "      <td>178.9</td>\n",
       "    </tr>\n",
       "    <tr>\n",
       "      <th>17</th>\n",
       "      <td>204.406</td>\n",
       "      <td>7.7</td>\n",
       "      <td>19.5</td>\n",
       "      <td>168.2</td>\n",
       "    </tr>\n",
       "    <tr>\n",
       "      <th>18</th>\n",
       "      <td>107.331</td>\n",
       "      <td>7.2</td>\n",
       "      <td>7.5</td>\n",
       "      <td>164.7</td>\n",
       "    </tr>\n",
       "    <tr>\n",
       "      <th>19</th>\n",
       "      <td>190.345</td>\n",
       "      <td>8.4</td>\n",
       "      <td>18.1</td>\n",
       "      <td>182.7</td>\n",
       "    </tr>\n",
       "    <tr>\n",
       "      <th>20</th>\n",
       "      <td>108.419</td>\n",
       "      <td>8.4</td>\n",
       "      <td>7.9</td>\n",
       "      <td>165.7</td>\n",
       "    </tr>\n",
       "    <tr>\n",
       "      <th>21</th>\n",
       "      <td>150.249</td>\n",
       "      <td>5.7</td>\n",
       "      <td>12.6</td>\n",
       "      <td>137.0</td>\n",
       "    </tr>\n",
       "    <tr>\n",
       "      <th>22</th>\n",
       "      <td>155.882</td>\n",
       "      <td>5.5</td>\n",
       "      <td>12.9</td>\n",
       "      <td>173.9</td>\n",
       "    </tr>\n",
       "    <tr>\n",
       "      <th>23</th>\n",
       "      <td>100.980</td>\n",
       "      <td>8.4</td>\n",
       "      <td>7.6</td>\n",
       "      <td>165.1</td>\n",
       "    </tr>\n",
       "    <tr>\n",
       "      <th>24</th>\n",
       "      <td>182.679</td>\n",
       "      <td>5.6</td>\n",
       "      <td>16.7</td>\n",
       "      <td>160.1</td>\n",
       "    </tr>\n",
       "    <tr>\n",
       "      <th>25</th>\n",
       "      <td>166.752</td>\n",
       "      <td>9.9</td>\n",
       "      <td>15.5</td>\n",
       "      <td>155.6</td>\n",
       "    </tr>\n",
       "    <tr>\n",
       "      <th>26</th>\n",
       "      <td>121.561</td>\n",
       "      <td>6.2</td>\n",
       "      <td>9.5</td>\n",
       "      <td>155.4</td>\n",
       "    </tr>\n",
       "    <tr>\n",
       "      <th>27</th>\n",
       "      <td>174.256</td>\n",
       "      <td>9.9</td>\n",
       "      <td>16.3</td>\n",
       "      <td>161.9</td>\n",
       "    </tr>\n",
       "    <tr>\n",
       "      <th>28</th>\n",
       "      <td>119.018</td>\n",
       "      <td>6.5</td>\n",
       "      <td>9.1</td>\n",
       "      <td>146.8</td>\n",
       "    </tr>\n",
       "    <tr>\n",
       "      <th>29</th>\n",
       "      <td>169.842</td>\n",
       "      <td>7.1</td>\n",
       "      <td>15.3</td>\n",
       "      <td>149.5</td>\n",
       "    </tr>\n",
       "    <tr>\n",
       "      <th>30</th>\n",
       "      <td>198.311</td>\n",
       "      <td>9.6</td>\n",
       "      <td>19.1</td>\n",
       "      <td>146.5</td>\n",
       "    </tr>\n",
       "    <tr>\n",
       "      <th>31</th>\n",
       "      <td>204.875</td>\n",
       "      <td>5.8</td>\n",
       "      <td>19.4</td>\n",
       "      <td>178.9</td>\n",
       "    </tr>\n",
       "    <tr>\n",
       "      <th>32</th>\n",
       "      <td>119.561</td>\n",
       "      <td>6.2</td>\n",
       "      <td>9.4</td>\n",
       "      <td>175.4</td>\n",
       "    </tr>\n",
       "    <tr>\n",
       "      <th>33</th>\n",
       "      <td>203.875</td>\n",
       "      <td>5.9</td>\n",
       "      <td>19.4</td>\n",
       "      <td>175.9</td>\n",
       "    </tr>\n",
       "    <tr>\n",
       "      <th>34</th>\n",
       "      <td>118.561</td>\n",
       "      <td>6.1</td>\n",
       "      <td>9.4</td>\n",
       "      <td>165.4</td>\n",
       "    </tr>\n",
       "  </tbody>\n",
       "</table>\n",
       "</div>"
      ],
      "text/plain": [
       "      Sales  Price  Mileage  Top_speed\n",
       "0   171.877    6.1     15.8      168.2\n",
       "1   139.796    6.1     12.1      149.6\n",
       "2   178.947    9.9     17.0      173.4\n",
       "3   140.022    5.8     11.6      170.6\n",
       "4   186.476   10.0     17.2      175.0\n",
       "5   192.123    6.5     17.6      173.1\n",
       "6   175.085    5.5     16.0      184.6\n",
       "7   146.882    8.4     13.0      175.7\n",
       "8   202.847    6.6     19.3      166.7\n",
       "9   149.933    8.8     13.3      175.4\n",
       "10  171.579    9.5     15.8      150.9\n",
       "11  201.512    9.2     19.2      140.5\n",
       "12  142.604    8.1     11.7      150.2\n",
       "13  135.158    5.4     11.2      146.2\n",
       "14  107.322    5.6      7.8      151.2\n",
       "15  199.699    6.3     19.0      143.2\n",
       "16  202.875    5.8     19.7      178.9\n",
       "17  204.406    7.7     19.5      168.2\n",
       "18  107.331    7.2      7.5      164.7\n",
       "19  190.345    8.4     18.1      182.7\n",
       "20  108.419    8.4      7.9      165.7\n",
       "21  150.249    5.7     12.6      137.0\n",
       "22  155.882    5.5     12.9      173.9\n",
       "23  100.980    8.4      7.6      165.1\n",
       "24  182.679    5.6     16.7      160.1\n",
       "25  166.752    9.9     15.5      155.6\n",
       "26  121.561    6.2      9.5      155.4\n",
       "27  174.256    9.9     16.3      161.9\n",
       "28  119.018    6.5      9.1      146.8\n",
       "29  169.842    7.1     15.3      149.5\n",
       "30  198.311    9.6     19.1      146.5\n",
       "31  204.875    5.8     19.4      178.9\n",
       "32  119.561    6.2      9.4      175.4\n",
       "33  203.875    5.9     19.4      175.9\n",
       "34  118.561    6.1      9.4      165.4"
      ]
     },
     "execution_count": 137,
     "metadata": {},
     "output_type": "execute_result"
    }
   ],
   "source": [
    "df"
   ]
  },
  {
   "cell_type": "code",
   "execution_count": 138,
   "id": "da90a260-b3a5-451b-931e-ed4491486522",
   "metadata": {},
   "outputs": [],
   "source": [
    "# Define independent variables (Price, Mileage, Top Speed)\n",
    "X = df[['Price', 'Mileage', 'Top_speed']]\n",
    "X = sm.add_constant(X)  # Add constant term for intercept"
   ]
  },
  {
   "cell_type": "code",
   "execution_count": 139,
   "id": "2a61d2de-b798-4f52-9472-3496df241ae5",
   "metadata": {},
   "outputs": [],
   "source": [
    "# Define dependent variable (Sales)\n",
    "y = df['Sales']"
   ]
  },
  {
   "cell_type": "code",
   "execution_count": 140,
   "id": "106035f7-18b1-4145-a385-e0dbd9eab1fb",
   "metadata": {},
   "outputs": [],
   "source": [
    "# Fit the regression model\n",
    "model = sm.OLS(y, X).fit()"
   ]
  },
  {
   "cell_type": "code",
   "execution_count": 141,
   "id": "fe8cc1ca-4af4-4ba6-9521-3ff2a77bb630",
   "metadata": {},
   "outputs": [
    {
     "name": "stdout",
     "output_type": "stream",
     "text": [
      "                            OLS Regression Results                            \n",
      "==============================================================================\n",
      "Dep. Variable:                  Sales   R-squared:                       0.996\n",
      "Model:                            OLS   Adj. R-squared:                  0.995\n",
      "Method:                 Least Squares   F-statistic:                     2430.\n",
      "Date:                Sun, 27 Oct 2024   Prob (F-statistic):           7.45e-37\n",
      "Time:                        13:23:44   Log-Likelihood:                -76.809\n",
      "No. Observations:                  35   AIC:                             161.6\n",
      "Df Residuals:                      31   BIC:                             167.8\n",
      "Df Model:                           3                                         \n",
      "Covariance Type:            nonrobust                                         \n",
      "==============================================================================\n",
      "                 coef    std err          t      P>|t|      [0.025      0.975]\n",
      "------------------------------------------------------------------------------\n",
      "const         50.7231      5.292      9.585      0.000      39.930      61.516\n",
      "Price         -0.7950      0.254     -3.126      0.004      -1.314      -0.276\n",
      "Mileage        8.3063      0.100     82.913      0.000       8.102       8.511\n",
      "Top_speed     -0.0186      0.031     -0.608      0.548      -0.081       0.044\n",
      "==============================================================================\n",
      "Omnibus:                        2.817   Durbin-Watson:                   1.655\n",
      "Prob(Omnibus):                  0.245   Jarque-Bera (JB):                2.103\n",
      "Skew:                           0.600   Prob(JB):                        0.349\n",
      "Kurtosis:                       3.030   Cond. No.                     2.23e+03\n",
      "==============================================================================\n",
      "\n",
      "Notes:\n",
      "[1] Standard Errors assume that the covariance matrix of the errors is correctly specified.\n",
      "[2] The condition number is large, 2.23e+03. This might indicate that there are\n",
      "strong multicollinearity or other numerical problems.\n"
     ]
    }
   ],
   "source": [
    "# Display the regression results\n",
    "print(model.summary())"
   ]
  },
  {
   "cell_type": "markdown",
   "id": "9d105334-0a90-402c-91d1-923cf0dc9c8b",
   "metadata": {},
   "source": [
    "##### Intercept: b0 = 50.7231\n",
    "##### Price: b1 = -0.7950\n",
    "##### Mileage: b2 = 8.3063\n",
    "##### Intercept: b3 = -0.0186"
   ]
  },
  {
   "cell_type": "markdown",
   "id": "f81106a0-90e1-4f97-b834-f09e4eee645f",
   "metadata": {},
   "source": [
    "### Regression Equation\n",
    "##### Sales = 50.7231 - 0.7950 * Price + 8.3063 * Mileage - 0.0186 * Top speed"
   ]
  },
  {
   "cell_type": "markdown",
   "id": "beec4473-0c79-4aa3-a5ec-9d7142a948ea",
   "metadata": {},
   "source": [
    "### Predicted Sales for Rocinante36\n",
    "##### Price = 7\n",
    "##### Mileage = 22\n",
    "##### Top speed = 140"
   ]
  },
  {
   "cell_type": "code",
   "execution_count": 142,
   "id": "bc5b3568-26a3-4c4b-af68-7cc3857ee047",
   "metadata": {},
   "outputs": [],
   "source": [
    "Predicted_Sales_of_Rocinante= 50.7231 - 0.7950 * 7 + 8.3063 * 22 - 0.0186 * 140"
   ]
  },
  {
   "cell_type": "code",
   "execution_count": 143,
   "id": "8ba1063b-1001-4cd1-8a0e-d24d486e0f56",
   "metadata": {},
   "outputs": [
    {
     "data": {
      "text/plain": [
       "225.2927"
      ]
     },
     "execution_count": 143,
     "metadata": {},
     "output_type": "execute_result"
    }
   ],
   "source": [
    "Predicted_Sales_of_Rocinante"
   ]
  },
  {
   "cell_type": "code",
   "execution_count": 144,
   "id": "a8179404-e3fa-4901-b4d8-ebb98836e689",
   "metadata": {},
   "outputs": [],
   "source": [
    "# Extracting F-statistic and p-value for overall significance\n",
    "f_statistic = model.fvalue\n",
    "f_p_value = model.f_pvalue"
   ]
  },
  {
   "cell_type": "code",
   "execution_count": 145,
   "id": "048bf897-2ead-490b-a18d-32198af0c723",
   "metadata": {},
   "outputs": [
    {
     "name": "stdout",
     "output_type": "stream",
     "text": [
      "\n",
      "F-statistic: 2430.1123\n",
      "p-value for overall model: 0.0000\n"
     ]
    }
   ],
   "source": [
    "# Display overall significance\n",
    "print(f\"\\nF-statistic: {f_statistic:.4f}\")\n",
    "print(f\"p-value for overall model: {f_p_value:.4f}\")"
   ]
  },
  {
   "cell_type": "markdown",
   "id": "a70e029a-51e5-483b-b16a-b51836f9eb3e",
   "metadata": {},
   "source": [
    "#### F-statistic, 2430.11: The overall model is statistically significant."
   ]
  },
  {
   "cell_type": "code",
   "execution_count": 146,
   "id": "de752af1-0773-4e89-8e7f-ba6fccd9c095",
   "metadata": {},
   "outputs": [
    {
     "name": "stdout",
     "output_type": "stream",
     "text": [
      "\n",
      "P-values for individual variables:\n",
      "const: 0.0000\n",
      "Price: 0.0038\n",
      "Mileage: 0.0000\n",
      "Top_speed: 0.5478\n"
     ]
    }
   ],
   "source": [
    "# Extracting individual variable p-values\n",
    "p_values = model.pvalues\n",
    "print(\"\\nP-values for individual variables:\")\n",
    "for variable, p_value in p_values.items():\n",
    "    print(f\"{variable}: {p_value:.4f}\")"
   ]
  },
  {
   "cell_type": "code",
   "execution_count": 147,
   "id": "cc3d9d2e-5a21-40c0-b4b0-78823c99a33c",
   "metadata": {},
   "outputs": [
    {
     "name": "stdout",
     "output_type": "stream",
     "text": [
      "\n",
      "Significant variables (p < 0.05):\n",
      "const      8.739024e-11\n",
      "Price      3.833463e-03\n",
      "Mileage    5.783564e-38\n",
      "dtype: float64\n"
     ]
    }
   ],
   "source": [
    "# Checking significance of individual variables\n",
    "significant_variables = p_values[p_values < 0.05]\n",
    "print(\"\\nSignificant variables (p < 0.05):\")\n",
    "print(significant_variables)"
   ]
  },
  {
   "cell_type": "markdown",
   "id": "7c44c473-8411-4a25-9003-8631f7ede99b",
   "metadata": {},
   "source": [
    "#### Price and Mileage have a significant impact on sales.\n",
    "#### Top speed does not have a statistically significant effect"
   ]
  },
  {
   "cell_type": "code",
   "execution_count": 148,
   "id": "e2056074-7bd3-4f1d-8223-3623e3eae54d",
   "metadata": {},
   "outputs": [],
   "source": [
    "# Increase by 5%\n",
    "new_price = 7 * 1.05\n",
    "new_mileage = 22 * 1.05\n",
    "new_top_speed = 140 * 1.05"
   ]
  },
  {
   "cell_type": "code",
   "execution_count": 149,
   "id": "9e4aea18-5e5a-4cf8-bc07-183607fce738",
   "metadata": {},
   "outputs": [
    {
     "name": "stdout",
     "output_type": "stream",
     "text": [
      "Predicted Sales (in units) after 5% increase: 239.49\n"
     ]
    }
   ],
   "source": [
    "predicted_sales_increased = 50.7231 - 0.7950 * new_price + 8.3063 * new_mileage + 0.0186 * new_top_speed\n",
    "print(f\"Predicted Sales (in units) after 5% increase: {predicted_sales_increased:.2f}\")"
   ]
  },
  {
   "cell_type": "code",
   "execution_count": 150,
   "id": "926acdea-16f5-4c97-89c2-0ba9524aa607",
   "metadata": {},
   "outputs": [],
   "source": [
    "# Decrease by 5%\n",
    "new_price1 = 7 * 0.95\n",
    "new_mileage1 = 22 * 0.95\n",
    "new_top_speed1 = 140 * 0.95"
   ]
  },
  {
   "cell_type": "code",
   "execution_count": 151,
   "id": "990cf459-c347-45f1-98ff-386a6dee446a",
   "metadata": {},
   "outputs": [
    {
     "name": "stdout",
     "output_type": "stream",
     "text": [
      "Predicted Sales (in units) after 5% decrease: 221.51\n"
     ]
    }
   ],
   "source": [
    "predicted_sales_decreased = 50.7231 - 0.7950 * new_price1 + 8.3063 * new_mileage1 + 0.01861 * new_top_speed1\n",
    "print(f\"Predicted Sales (in units) after 5% decrease: {predicted_sales_decreased:.2f}\")"
   ]
  },
  {
   "cell_type": "markdown",
   "id": "570832b2-30d0-4228-80c7-3fb87e1fecbf",
   "metadata": {},
   "source": [
    "## Testing assumption:"
   ]
  },
  {
   "cell_type": "markdown",
   "id": "8daf9d6b-af70-45af-b213-689df4abb4a9",
   "metadata": {},
   "source": [
    "### a) Check if error terms are normally distributed"
   ]
  },
  {
   "cell_type": "code",
   "execution_count": 152,
   "id": "44f0561e-4d5b-4790-a385-d613fe307e46",
   "metadata": {},
   "outputs": [],
   "source": [
    "residuals = model.resid  # Residuals (errors)"
   ]
  },
  {
   "cell_type": "code",
   "execution_count": 153,
   "id": "b77b9d67-5633-4670-b65b-616ab5e516b4",
   "metadata": {},
   "outputs": [
    {
     "name": "stderr",
     "output_type": "stream",
     "text": [
      "C:\\Users\\yasha\\anaconda3\\Lib\\site-packages\\seaborn\\_oldcore.py:1119: FutureWarning: use_inf_as_na option is deprecated and will be removed in a future version. Convert inf values to NaN before operating instead.\n",
      "  with pd.option_context('mode.use_inf_as_na', True):\n"
     ]
    },
    {
     "data": {
      "text/plain": [
       "Text(0.5, 1.0, 'Histogram of Residuals')"
      ]
     },
     "execution_count": 153,
     "metadata": {},
     "output_type": "execute_result"
    },
    {
     "data": {
      "image/png": "[encoded data removed]",
      "text/plain": [
       "<Figure size 1200x600 with 1 Axes>"
      ]
     },
     "metadata": {},
     "output_type": "display_data"
    }
   ],
   "source": [
    "# 1. Visual inspection using histogram and Q-Q plot\n",
    "plt.figure(figsize=(12, 6))\n",
    "plt.subplot(1, 2, 1)\n",
    "sns.histplot(residuals, kde=True)\n",
    "plt.title(\"Histogram of Residuals\")"
   ]
  },
  {
   "cell_type": "code",
   "execution_count": 154,
   "id": "69e5d368-0ae6-4c0b-9f4f-d522bbbd30f2",
   "metadata": {},
   "outputs": [
    {
     "data": {
      "image/png": "[encoded data removed]",
      "text/plain": [
       "<Figure size 640x480 with 1 Axes>"
      ]
     },
     "metadata": {},
     "output_type": "display_data"
    },
    {
     "name": "stdout",
     "output_type": "stream",
     "text": [
      "Shapiro-Wilk test statistic: 0.9628714919090271, p-value: 0.2783476710319519\n",
      "Jarque-Bera test statistic: 2.10271117153014, p-value: 0.3494636998596015\n"
     ]
    }
   ],
   "source": [
    "import statsmodels.api as sm\n",
    "import matplotlib.pyplot as plt\n",
    "from scipy.stats import shapiro, jarque_bera\n",
    "\n",
    "# Fit the model\n",
    "X = sm.add_constant(df[['Price','Mileage','Top_speed']])\n",
    "model = sm.OLS(df['Sales'], X).fit()\n",
    "\n",
    "# Get residuals\n",
    "residuals = model.resid\n",
    "\n",
    "# Q-Q plot\n",
    "sm.qqplot(residuals, line='s')\n",
    "plt.title('Q-Q Plot of Residuals')\n",
    "plt.show()\n",
    "\n",
    "# Shapiro-Wilk Test for normality\n",
    "shapiro_test = shapiro(residuals)\n",
    "print(f'Shapiro-Wilk test statistic: {shapiro_test.statistic}, p-value: {shapiro_test.pvalue}')\n",
    "\n",
    "# Jarque-Bera test\n",
    "jb_test = jarque_bera(residuals)\n",
    "print(f'Jarque-Bera test statistic: {jb_test[0]}, p-value: {jb_test[1]}')"
   ]
  },
  {
   "cell_type": "markdown",
   "id": "8ef99f3b-30c3-4fae-9510-53edf2edb0b6",
   "metadata": {},
   "source": [
    "#### p-value from these tests is > 0.05, the residuals are assumed to be normally distributed."
   ]
  },
  {
   "cell_type": "code",
   "execution_count": 155,
   "id": "55a6c77d-3ffa-4861-805c-add43f74e878",
   "metadata": {},
   "outputs": [
    {
     "data": {
      "image/png": "[encoded data removed]",
      "text/plain": [
       "<Figure size 640x480 with 1 Axes>"
      ]
     },
     "metadata": {},
     "output_type": "display_data"
    },
    {
     "name": "stdout",
     "output_type": "stream",
     "text": [
      "Breusch-Pagan test statistic: 1.7884283456540984, p-value: 0.6174562893155353\n"
     ]
    }
   ],
   "source": [
    "import seaborn as sns\n",
    "from statsmodels.stats.diagnostic import het_breuschpagan\n",
    "\n",
    "# Residuals vs. fitted values plot\n",
    "fitted_values = model.fittedvalues\n",
    "sns.residplot(x=fitted_values, y=residuals, lowess=True, line_kws={'color': 'Black'})\n",
    "plt.title('Residuals vs Fitted Values')\n",
    "plt.show()\n",
    "\n",
    "# Breusch-Pagan test\n",
    "bp_test = het_breuschpagan(residuals, model.model.exog)\n",
    "print(f'Breusch-Pagan test statistic: {bp_test[0]}, p-value: {bp_test[1]}')"
   ]
  },
  {
   "cell_type": "markdown",
   "id": "f574cebb-9e87-41ec-b6b7-72f5fe54dbce",
   "metadata": {},
   "source": [
    "#### p-value from these tests is > 0.05, the varince at all level of independent variables is constant"
   ]
  },
  {
   "cell_type": "markdown",
   "id": "a35a1809-7f7f-4e31-9042-bf88718ce940",
   "metadata": {},
   "source": [
    "### b)  Input Variables are Independent of Each Other (No Multicollinearity)"
   ]
  },
  {
   "cell_type": "code",
   "execution_count": 156,
   "id": "685fa270-0cc9-46aa-aec7-21f603c2c6d5",
   "metadata": {},
   "outputs": [
    {
     "name": "stdout",
     "output_type": "stream",
     "text": [
      "     feature         VIF\n",
      "0      const  184.048148\n",
      "1      Price    1.042167\n",
      "2    Mileage    1.076662\n",
      "3  Top_speed    1.041262\n"
     ]
    }
   ],
   "source": [
    "from statsmodels.stats.outliers_influence import variance_inflation_factor\n",
    "\n",
    "# Calculate VIF for each independent variable\n",
    "vif_data = pd.DataFrame()\n",
    "vif_data['feature'] = X.columns\n",
    "vif_data['VIF'] = [variance_inflation_factor(X.values, i) for i in range(X.shape[1])]\n",
    "\n",
    "print(vif_data)"
   ]
  },
  {
   "cell_type": "markdown",
   "id": "a9fdafd4-0c29-46f5-b529-6bed60741c84",
   "metadata": {},
   "source": [
    "#### VIF value of all the variables are < 5, there is no exist of multicolinearity."
   ]
  },
  {
   "cell_type": "markdown",
   "id": "705a12bd-e24b-4ba2-b4c4-669a70037eee",
   "metadata": {},
   "source": [
    "### c) Successive Error Terms are Independent (No Autocorrelation)"
   ]
  },
  {
   "cell_type": "code",
   "execution_count": 157,
   "id": "98286f0b-2dd6-4d40-8da0-f4e5ecc72c47",
   "metadata": {},
   "outputs": [
    {
     "name": "stdout",
     "output_type": "stream",
     "text": [
      "Durbin-Watson statistic: 1.6547723984064426\n"
     ]
    }
   ],
   "source": [
    "from statsmodels.stats.stattools import durbin_watson\n",
    "\n",
    "# Durbin-Watson test for autocorrelation\n",
    "dw_stat = durbin_watson(residuals)\n",
    "print(f'Durbin-Watson statistic: {dw_stat}')"
   ]
  },
  {
   "cell_type": "markdown",
   "id": "7bbf9d70-ce31-4850-8b7d-528381a11904",
   "metadata": {},
   "source": [
    "#### Durbin-Watson statistic value is between 1.5 and 2.5 suggests no significant autocorrelation in the residuals."
   ]
  },
  {
   "cell_type": "markdown",
   "id": "b328d67e-e41d-4588-aad2-f5d916db1291",
   "metadata": {},
   "source": [
    "### d) Specification Bias (Correct Model Specification)"
   ]
  },
  {
   "cell_type": "code",
   "execution_count": 158,
   "id": "42ba2d30-406e-433f-9bdb-06e58055148e",
   "metadata": {},
   "outputs": [
    {
     "name": "stdout",
     "output_type": "stream",
     "text": [
      "Ramsey RESET test statistic: 0.18007970511136429, p-value: 0.8361304418861545\n"
     ]
    }
   ],
   "source": [
    "from statsmodels.stats.outliers_influence import reset_ramsey\n",
    "\n",
    "# Ramsey RESET test\n",
    "reset_test = reset_ramsey(model, degree=3)\n",
    "print(f'Ramsey RESET test statistic: {reset_test.fvalue}, p-value: {reset_test.pvalue}')"
   ]
  },
  {
   "cell_type": "markdown",
   "id": "a9a15185-1c88-4834-b8b6-b17355c79cef",
   "metadata": {},
   "source": [
    "#### p-value is > 0.05, the model is correctly specified"
   ]
  },
  {
   "cell_type": "markdown",
   "id": "93bb9641-0828-4a7f-971b-dbc7e30f7cc8",
   "metadata": {},
   "source": [
    "### e) Identify Outliers in Independent Variables (Leverage or Hat Diagonal)"
   ]
  },
  {
   "cell_type": "code",
   "execution_count": 159,
   "id": "0eb0b7a7-fb88-45ab-913c-bcc699603087",
   "metadata": {},
   "outputs": [
    {
     "name": "stdout",
     "output_type": "stream",
     "text": [
      "High leverage points (outliers in X): []\n"
     ]
    }
   ],
   "source": [
    "# Get the influence measures (hat diagonal)\n",
    "influence = model.get_influence()\n",
    "hat_values = influence.hat_matrix_diag\n",
    "\n",
    "# Set a threshold for identifying high-leverage points (rule of thumb: 2*(k+1)/n, where k = number of predictors)\n",
    "n = len(df)\n",
    "k = X.shape[1] - 1  # number of predictors excluding the intercept\n",
    "leverage_threshold = 2 * (k + 1) / n\n",
    "\n",
    "# Identify high-leverage points\n",
    "high_leverage_points = np.where(hat_values > leverage_threshold)[0]\n",
    "\n",
    "print(f\"High leverage points (outliers in X): {high_leverage_points}\")"
   ]
  },
  {
   "cell_type": "markdown",
   "id": "00fe4ba2-1e66-413b-acf4-79ef1e7dde31",
   "metadata": {},
   "source": [
    "### Identify Outliers in Dependent Variables (Studentized Residuals)"
   ]
  },
  {
   "cell_type": "code",
   "execution_count": 160,
   "id": "f2447cf3-b2a2-4fb6-b8a3-d3f436ab3b60",
   "metadata": {},
   "outputs": [
    {
     "name": "stdout",
     "output_type": "stream",
     "text": [
      "High leverage points (outliers in X): []\n"
     ]
    }
   ],
   "source": [
    "# Get the influence measures (hat diagonal)\n",
    "influence = model.get_influence()\n",
    "hat_values = influence.hat_matrix_diag\n",
    "\n",
    "# Set a threshold for identifying high-leverage points (rule of thumb: 2*(k+1)/n, where k = number of predictors)\n",
    "n = len(df)\n",
    "k = X.shape[1] - 1  # number of predictors excluding the intercept\n",
    "leverage_threshold = 2 * (k + 1) / n\n",
    "\n",
    "# Identify high-leverage points\n",
    "high_leverage_points = np.where(hat_values > leverage_threshold)[0]\n",
    "\n",
    "print(f\"High leverage points (outliers in X): {high_leverage_points}\")"
   ]
  },
  {
   "cell_type": "markdown",
   "id": "a1cc076a-fcfe-4968-93a5-c43d7cdd67f3",
   "metadata": {},
   "source": [
    "####  Outliers in both dependent and independent variables"
   ]
  },
  {
   "cell_type": "markdown",
   "id": "73098cc9-d07a-4466-ad0a-988f485267a3",
   "metadata": {},
   "source": [
    "## For Marengo mode"
   ]
  },
  {
   "cell_type": "code",
   "execution_count": 161,
   "id": "728d086e-b287-4248-85a8-9a2b5eddbb17",
   "metadata": {},
   "outputs": [],
   "source": [
    "Marengo_data = {\n",
    "    'Sales': [20.896, 31.048, 29.904, 28.792, 16.776, 18.928, 22.776,36.824, 22.216, 35.456, 28.576, 33.648, 33.44, 34.912, 24.016, 20.992, 21.696, 17.832, 25.624, 21.92, 24.792,22.256, 15.488, 21.64, 23.264, 19.328, 27.216, 23.096, 17.824, 19.144, 21.6],\n",
    "    'Price': [42.5, 36, 54.7, 42.7, 44.9, 35.5, 51.3, 30.4, 38.4, 32.2, 59.4, 50.8, 57.5, 44.6, 34.6, 56.4, 41.4, 53.7, 44.8, 32.4, 40.9, 44.1, 46.6, 31.4, 54.7, 37.9, 52.9, 42.7, 54.9, 44, 42.2 ],\n",
    "    'Mileage': [9.3, 9.7, 16.6, 11.7, 13.7, 9.6, 13.7, 12.6, 16.2, 9.6, 11.3, 13.6, 13.5, 11.1, 14.1, 13.4, 12.8, 16, 12.7, 13.6, 11.6, 11.4, 16.3, 14.5, 14.3,  9.4, 15.3, 15, 13.5, 11.8, 9.3],\n",
    "    'Top_speed': [199.4, 235.2, 240.8, 232.5, 188.8, 184.2, 207.7, 249.5, 175.8, 245.6, 223.3, 240, 250, 247.4, 192, 201.2, 193.3, 202, 208.9, 176.9, 218.2, 190, 176.8, 178.9, 192.3, 184.1, 240.3, 192.1, 199, 181.1, 181.2]\n",
    "}"
   ]
  },
  {
   "cell_type": "code",
   "execution_count": 162,
   "id": "032efe0c-0377-40de-98a6-0fe85e833e72",
   "metadata": {},
   "outputs": [],
   "source": [
    "# Create DataFrame\n",
    "df1 = pd.DataFrame(Marengo_data)"
   ]
  },
  {
   "cell_type": "code",
   "execution_count": 163,
   "id": "8d5f4d8b-99ed-4864-aa4c-fc23e441cccf",
   "metadata": {},
   "outputs": [
    {
     "data": {
      "text/html": [
       "<div>\n",
       "<style scoped>\n",
       "    .dataframe tbody tr th:only-of-type {\n",
       "        vertical-align: middle;\n",
       "    }\n",
       "\n",
       "    .dataframe tbody tr th {\n",
       "        vertical-align: top;\n",
       "    }\n",
       "\n",
       "    .dataframe thead th {\n",
       "        text-align: right;\n",
       "    }\n",
       "</style>\n",
       "<table border=\"1\" class=\"dataframe\">\n",
       "  <thead>\n",
       "    <tr style=\"text-align: right;\">\n",
       "      <th></th>\n",
       "      <th>Sales</th>\n",
       "      <th>Price</th>\n",
       "      <th>Mileage</th>\n",
       "      <th>Top_speed</th>\n",
       "    </tr>\n",
       "  </thead>\n",
       "  <tbody>\n",
       "    <tr>\n",
       "      <th>0</th>\n",
       "      <td>20.896</td>\n",
       "      <td>42.5</td>\n",
       "      <td>9.3</td>\n",
       "      <td>199.4</td>\n",
       "    </tr>\n",
       "    <tr>\n",
       "      <th>1</th>\n",
       "      <td>31.048</td>\n",
       "      <td>36.0</td>\n",
       "      <td>9.7</td>\n",
       "      <td>235.2</td>\n",
       "    </tr>\n",
       "    <tr>\n",
       "      <th>2</th>\n",
       "      <td>29.904</td>\n",
       "      <td>54.7</td>\n",
       "      <td>16.6</td>\n",
       "      <td>240.8</td>\n",
       "    </tr>\n",
       "    <tr>\n",
       "      <th>3</th>\n",
       "      <td>28.792</td>\n",
       "      <td>42.7</td>\n",
       "      <td>11.7</td>\n",
       "      <td>232.5</td>\n",
       "    </tr>\n",
       "    <tr>\n",
       "      <th>4</th>\n",
       "      <td>16.776</td>\n",
       "      <td>44.9</td>\n",
       "      <td>13.7</td>\n",
       "      <td>188.8</td>\n",
       "    </tr>\n",
       "    <tr>\n",
       "      <th>5</th>\n",
       "      <td>18.928</td>\n",
       "      <td>35.5</td>\n",
       "      <td>9.6</td>\n",
       "      <td>184.2</td>\n",
       "    </tr>\n",
       "    <tr>\n",
       "      <th>6</th>\n",
       "      <td>22.776</td>\n",
       "      <td>51.3</td>\n",
       "      <td>13.7</td>\n",
       "      <td>207.7</td>\n",
       "    </tr>\n",
       "    <tr>\n",
       "      <th>7</th>\n",
       "      <td>36.824</td>\n",
       "      <td>30.4</td>\n",
       "      <td>12.6</td>\n",
       "      <td>249.5</td>\n",
       "    </tr>\n",
       "    <tr>\n",
       "      <th>8</th>\n",
       "      <td>22.216</td>\n",
       "      <td>38.4</td>\n",
       "      <td>16.2</td>\n",
       "      <td>175.8</td>\n",
       "    </tr>\n",
       "    <tr>\n",
       "      <th>9</th>\n",
       "      <td>35.456</td>\n",
       "      <td>32.2</td>\n",
       "      <td>9.6</td>\n",
       "      <td>245.6</td>\n",
       "    </tr>\n",
       "    <tr>\n",
       "      <th>10</th>\n",
       "      <td>28.576</td>\n",
       "      <td>59.4</td>\n",
       "      <td>11.3</td>\n",
       "      <td>223.3</td>\n",
       "    </tr>\n",
       "    <tr>\n",
       "      <th>11</th>\n",
       "      <td>33.648</td>\n",
       "      <td>50.8</td>\n",
       "      <td>13.6</td>\n",
       "      <td>240.0</td>\n",
       "    </tr>\n",
       "    <tr>\n",
       "      <th>12</th>\n",
       "      <td>33.440</td>\n",
       "      <td>57.5</td>\n",
       "      <td>13.5</td>\n",
       "      <td>250.0</td>\n",
       "    </tr>\n",
       "    <tr>\n",
       "      <th>13</th>\n",
       "      <td>34.912</td>\n",
       "      <td>44.6</td>\n",
       "      <td>11.1</td>\n",
       "      <td>247.4</td>\n",
       "    </tr>\n",
       "    <tr>\n",
       "      <th>14</th>\n",
       "      <td>24.016</td>\n",
       "      <td>34.6</td>\n",
       "      <td>14.1</td>\n",
       "      <td>192.0</td>\n",
       "    </tr>\n",
       "    <tr>\n",
       "      <th>15</th>\n",
       "      <td>20.992</td>\n",
       "      <td>56.4</td>\n",
       "      <td>13.4</td>\n",
       "      <td>201.2</td>\n",
       "    </tr>\n",
       "    <tr>\n",
       "      <th>16</th>\n",
       "      <td>21.696</td>\n",
       "      <td>41.4</td>\n",
       "      <td>12.8</td>\n",
       "      <td>193.3</td>\n",
       "    </tr>\n",
       "    <tr>\n",
       "      <th>17</th>\n",
       "      <td>17.832</td>\n",
       "      <td>53.7</td>\n",
       "      <td>16.0</td>\n",
       "      <td>202.0</td>\n",
       "    </tr>\n",
       "    <tr>\n",
       "      <th>18</th>\n",
       "      <td>25.624</td>\n",
       "      <td>44.8</td>\n",
       "      <td>12.7</td>\n",
       "      <td>208.9</td>\n",
       "    </tr>\n",
       "    <tr>\n",
       "      <th>19</th>\n",
       "      <td>21.920</td>\n",
       "      <td>32.4</td>\n",
       "      <td>13.6</td>\n",
       "      <td>176.9</td>\n",
       "    </tr>\n",
       "    <tr>\n",
       "      <th>20</th>\n",
       "      <td>24.792</td>\n",
       "      <td>40.9</td>\n",
       "      <td>11.6</td>\n",
       "      <td>218.2</td>\n",
       "    </tr>\n",
       "    <tr>\n",
       "      <th>21</th>\n",
       "      <td>22.256</td>\n",
       "      <td>44.1</td>\n",
       "      <td>11.4</td>\n",
       "      <td>190.0</td>\n",
       "    </tr>\n",
       "    <tr>\n",
       "      <th>22</th>\n",
       "      <td>15.488</td>\n",
       "      <td>46.6</td>\n",
       "      <td>16.3</td>\n",
       "      <td>176.8</td>\n",
       "    </tr>\n",
       "    <tr>\n",
       "      <th>23</th>\n",
       "      <td>21.640</td>\n",
       "      <td>31.4</td>\n",
       "      <td>14.5</td>\n",
       "      <td>178.9</td>\n",
       "    </tr>\n",
       "    <tr>\n",
       "      <th>24</th>\n",
       "      <td>23.264</td>\n",
       "      <td>54.7</td>\n",
       "      <td>14.3</td>\n",
       "      <td>192.3</td>\n",
       "    </tr>\n",
       "    <tr>\n",
       "      <th>25</th>\n",
       "      <td>19.328</td>\n",
       "      <td>37.9</td>\n",
       "      <td>9.4</td>\n",
       "      <td>184.1</td>\n",
       "    </tr>\n",
       "    <tr>\n",
       "      <th>26</th>\n",
       "      <td>27.216</td>\n",
       "      <td>52.9</td>\n",
       "      <td>15.3</td>\n",
       "      <td>240.3</td>\n",
       "    </tr>\n",
       "    <tr>\n",
       "      <th>27</th>\n",
       "      <td>23.096</td>\n",
       "      <td>42.7</td>\n",
       "      <td>15.0</td>\n",
       "      <td>192.1</td>\n",
       "    </tr>\n",
       "    <tr>\n",
       "      <th>28</th>\n",
       "      <td>17.824</td>\n",
       "      <td>54.9</td>\n",
       "      <td>13.5</td>\n",
       "      <td>199.0</td>\n",
       "    </tr>\n",
       "    <tr>\n",
       "      <th>29</th>\n",
       "      <td>19.144</td>\n",
       "      <td>44.0</td>\n",
       "      <td>11.8</td>\n",
       "      <td>181.1</td>\n",
       "    </tr>\n",
       "    <tr>\n",
       "      <th>30</th>\n",
       "      <td>21.600</td>\n",
       "      <td>42.2</td>\n",
       "      <td>9.3</td>\n",
       "      <td>181.2</td>\n",
       "    </tr>\n",
       "  </tbody>\n",
       "</table>\n",
       "</div>"
      ],
      "text/plain": [
       "     Sales  Price  Mileage  Top_speed\n",
       "0   20.896   42.5      9.3      199.4\n",
       "1   31.048   36.0      9.7      235.2\n",
       "2   29.904   54.7     16.6      240.8\n",
       "3   28.792   42.7     11.7      232.5\n",
       "4   16.776   44.9     13.7      188.8\n",
       "5   18.928   35.5      9.6      184.2\n",
       "6   22.776   51.3     13.7      207.7\n",
       "7   36.824   30.4     12.6      249.5\n",
       "8   22.216   38.4     16.2      175.8\n",
       "9   35.456   32.2      9.6      245.6\n",
       "10  28.576   59.4     11.3      223.3\n",
       "11  33.648   50.8     13.6      240.0\n",
       "12  33.440   57.5     13.5      250.0\n",
       "13  34.912   44.6     11.1      247.4\n",
       "14  24.016   34.6     14.1      192.0\n",
       "15  20.992   56.4     13.4      201.2\n",
       "16  21.696   41.4     12.8      193.3\n",
       "17  17.832   53.7     16.0      202.0\n",
       "18  25.624   44.8     12.7      208.9\n",
       "19  21.920   32.4     13.6      176.9\n",
       "20  24.792   40.9     11.6      218.2\n",
       "21  22.256   44.1     11.4      190.0\n",
       "22  15.488   46.6     16.3      176.8\n",
       "23  21.640   31.4     14.5      178.9\n",
       "24  23.264   54.7     14.3      192.3\n",
       "25  19.328   37.9      9.4      184.1\n",
       "26  27.216   52.9     15.3      240.3\n",
       "27  23.096   42.7     15.0      192.1\n",
       "28  17.824   54.9     13.5      199.0\n",
       "29  19.144   44.0     11.8      181.1\n",
       "30  21.600   42.2      9.3      181.2"
      ]
     },
     "execution_count": 163,
     "metadata": {},
     "output_type": "execute_result"
    }
   ],
   "source": [
    "df1"
   ]
  },
  {
   "cell_type": "code",
   "execution_count": 164,
   "id": "a794e0e2-12d9-4cea-8eb5-91766ca8b815",
   "metadata": {},
   "outputs": [],
   "source": [
    "# Define independent variables (Price, Mileage, Top Speed)\n",
    "X = df1[['Price', 'Mileage', 'Top_speed']]\n",
    "X = sm.add_constant(X)  # Add constant term for intercept"
   ]
  },
  {
   "cell_type": "code",
   "execution_count": 165,
   "id": "11cf8f7f-0cc9-4f6f-8981-d3124188bfe8",
   "metadata": {},
   "outputs": [],
   "source": [
    "# Define dependent variable (Sales)\n",
    "y = df1['Sales']"
   ]
  },
  {
   "cell_type": "code",
   "execution_count": 166,
   "id": "a49bf79c-c98d-4bb0-a083-89735ff75d4f",
   "metadata": {},
   "outputs": [],
   "source": [
    "# Fit the regression model\n",
    "model1 = sm.OLS(y, X).fit()"
   ]
  },
  {
   "cell_type": "code",
   "execution_count": 167,
   "id": "d2546447-2180-420c-8662-ba574f0b2194",
   "metadata": {},
   "outputs": [
    {
     "name": "stdout",
     "output_type": "stream",
     "text": [
      "                            OLS Regression Results                            \n",
      "==============================================================================\n",
      "Dep. Variable:                  Sales   R-squared:                       0.863\n",
      "Model:                            OLS   Adj. R-squared:                  0.848\n",
      "Method:                 Least Squares   F-statistic:                     56.74\n",
      "Date:                Sun, 27 Oct 2024   Prob (F-statistic):           8.74e-12\n",
      "Time:                        13:23:46   Log-Likelihood:                -67.757\n",
      "No. Observations:                  31   AIC:                             143.5\n",
      "Df Residuals:                      27   BIC:                             149.2\n",
      "Df Model:                           3                                         \n",
      "Covariance Type:            nonrobust                                         \n",
      "==============================================================================\n",
      "                 coef    std err          t      P>|t|      [0.025      0.975]\n",
      "------------------------------------------------------------------------------\n",
      "const        -13.4476      4.454     -3.019      0.005     -22.586      -4.309\n",
      "Price         -0.1867      0.055     -3.368      0.002      -0.300      -0.073\n",
      "Mileage        0.0413      0.207      0.200      0.843      -0.383       0.465\n",
      "Top_speed      0.2208      0.017     12.820      0.000       0.185       0.256\n",
      "==============================================================================\n",
      "Omnibus:                        2.082   Durbin-Watson:                   1.649\n",
      "Prob(Omnibus):                  0.353   Jarque-Bera (JB):                1.181\n",
      "Skew:                          -0.071   Prob(JB):                        0.554\n",
      "Kurtosis:                       2.054   Cond. No.                     2.30e+03\n",
      "==============================================================================\n",
      "\n",
      "Notes:\n",
      "[1] Standard Errors assume that the covariance matrix of the errors is correctly specified.\n",
      "[2] The condition number is large, 2.3e+03. This might indicate that there are\n",
      "strong multicollinearity or other numerical problems.\n"
     ]
    }
   ],
   "source": [
    "# isplay the regression results\n",
    "print(model1.summary())"
   ]
  },
  {
   "cell_type": "markdown",
   "id": "d115acd7-e7be-4ee9-8cda-c0e6864a56de",
   "metadata": {},
   "source": [
    "##### Intercept: b0 = -13.4476\n",
    "##### Price: b1 = -0.1867\n",
    "##### Mileage: b2 = 0.0413\n",
    "##### Intercept: b3 = 0.2208"
   ]
  },
  {
   "cell_type": "markdown",
   "id": "e5aca89b-61b4-421d-bb5b-c414d73686e2",
   "metadata": {},
   "source": [
    "### Regression Equation\n",
    "##### Sales = -13.4476 - 0.1867 * Price + 0.0413 * Mileage + 0.2208 * Top speed"
   ]
  },
  {
   "cell_type": "markdown",
   "id": "d4fb5e0b-5106-43c7-ac91-dc98b17447e2",
   "metadata": {},
   "source": [
    "### Predicted Sales for Rocinante36\n",
    "##### Price = 41\n",
    "##### Mileage = 33\n",
    "##### Top speed = 210"
   ]
  },
  {
   "cell_type": "code",
   "execution_count": 168,
   "id": "4f203cbd-7a8d-4ec2-8fb3-33364f38573e",
   "metadata": {},
   "outputs": [],
   "source": [
    "Predicted_Sales_of_Marengo= -13.4476 - 0.1867 * 41 + 0.0413 * 15 + 0.2208 * 210"
   ]
  },
  {
   "cell_type": "code",
   "execution_count": 169,
   "id": "327651ec-e350-4329-8374-795465b58f27",
   "metadata": {},
   "outputs": [
    {
     "data": {
      "text/plain": [
       "25.8852"
      ]
     },
     "execution_count": 169,
     "metadata": {},
     "output_type": "execute_result"
    }
   ],
   "source": [
    "Predicted_Sales_of_Marengo"
   ]
  },
  {
   "cell_type": "code",
   "execution_count": 170,
   "id": "fc810f97-4c3b-4bad-8778-6130c80f9fe1",
   "metadata": {},
   "outputs": [],
   "source": [
    "# Extracting F-statistic and p-value for overall significance\n",
    "f_statistic = model1.fvalue\n",
    "f_p_value = model1.f_pvalue"
   ]
  },
  {
   "cell_type": "code",
   "execution_count": 171,
   "id": "14838619-910f-4bcc-8296-d2d9c7405730",
   "metadata": {},
   "outputs": [
    {
     "name": "stdout",
     "output_type": "stream",
     "text": [
      "\n",
      "F-statistic: 56.7355\n",
      "p-value for overall model: 0.0000\n"
     ]
    }
   ],
   "source": [
    "# Display overall significance\n",
    "print(f\"\\nF-statistic: {f_statistic:.4f}\")\n",
    "print(f\"p-value for overall model: {f_p_value:.4f}\")"
   ]
  },
  {
   "cell_type": "markdown",
   "id": "77b4c444-32a3-4705-b510-c3c55c6ba462",
   "metadata": {},
   "source": [
    "#### F-statistic, 56.7355: The overall model is statistically significant"
   ]
  },
  {
   "cell_type": "code",
   "execution_count": 172,
   "id": "17c495e4-206d-432f-84d8-056ebffd5c7a",
   "metadata": {},
   "outputs": [
    {
     "name": "stdout",
     "output_type": "stream",
     "text": [
      "\n",
      "P-values for individual variables:\n",
      "const: 0.0055\n",
      "Price: 0.0023\n",
      "Mileage: 0.8431\n",
      "Top_speed: 0.0000\n"
     ]
    }
   ],
   "source": [
    "# Check significance of individual variables\n",
    "p_values = model1.pvalues\n",
    "print(\"\\nP-values for individual variables:\")\n",
    "for variable, p_value in p_values.items():\n",
    "    print(f\"{variable}: {p_value:.4f}\")"
   ]
  },
  {
   "cell_type": "code",
   "execution_count": 173,
   "id": "0e3e5ca2-eadb-4e1b-a45d-bcea5c23af27",
   "metadata": {},
   "outputs": [
    {
     "name": "stdout",
     "output_type": "stream",
     "text": [
      "\n",
      "Significant variables (p < 0.05):\n",
      "const        5.478963e-03\n",
      "Price        2.288377e-03\n",
      "Top_speed    5.388275e-13\n",
      "dtype: float64\n"
     ]
    }
   ],
   "source": [
    "# Checking significance of individual variables\n",
    "significant_variables = p_values[p_values < 0.05]\n",
    "print(\"\\nSignificant variables (p < 0.05):\")\n",
    "print(significant_variables)"
   ]
  },
  {
   "cell_type": "markdown",
   "id": "701d1c64-04ba-425d-af6f-23c95927b26f",
   "metadata": {},
   "source": [
    "#### Price and Top speed  have a significant impact on sales.\n",
    "#### Mileage does not have a statistically significant effect"
   ]
  },
  {
   "cell_type": "code",
   "execution_count": 174,
   "id": "6ba47afa-78d8-41c9-8768-c99d139bf532",
   "metadata": {},
   "outputs": [],
   "source": [
    "# Increase by 5%\n",
    "new_price2 = 41 * 1.05\n",
    "new_mileage2 = 33 * 1.05\n",
    "new_top_speed2 = 210 * 1.05"
   ]
  },
  {
   "cell_type": "code",
   "execution_count": 175,
   "id": "101461cb-abaf-4a9c-a615-383200d1bb29",
   "metadata": {},
   "outputs": [
    {
     "name": "stdout",
     "output_type": "stream",
     "text": [
      "Predicted Sales (in units) after 5% increase: 2.45\n"
     ]
    }
   ],
   "source": [
    "predicted_sales_increased = -13.4476 - 0.7950 * new_price2 + 0.0413 * new_mileage2 + 0.2208 * new_top_speed2\n",
    "print(f\"Predicted Sales (in units) after 5% increase: {predicted_sales_increased:.2f}\")"
   ]
  },
  {
   "cell_type": "code",
   "execution_count": 176,
   "id": "c514b391-bddc-48ba-b8b3-fc6e996fab04",
   "metadata": {},
   "outputs": [],
   "source": [
    "# Decrease by 5%\n",
    "new_price3 = 41 * 0.95\n",
    "new_mileage3 = 33 * 0.95\n",
    "new_top_speed3 = 210 * 0.95"
   ]
  },
  {
   "cell_type": "code",
   "execution_count": 177,
   "id": "1afd2f53-86a1-4920-9bf3-28e7324be612",
   "metadata": {},
   "outputs": [
    {
     "name": "stdout",
     "output_type": "stream",
     "text": [
      "Predicted Sales (in units) after 5% decrease: 0.93\n"
     ]
    }
   ],
   "source": [
    "predicted_sales_decreased = -13.4476 - 0.7950 * new_price3 + 0.0413 * new_mileage3 + 0.2208 * new_top_speed3\n",
    "print(f\"Predicted Sales (in units) after 5% decrease: {predicted_sales_decreased:.2f}\")"
   ]
  },
  {
   "cell_type": "markdown",
   "id": "276c383e-1f7f-446e-8910-6017d2ad0481",
   "metadata": {},
   "source": [
    "## Testing assumption:"
   ]
  },
  {
   "cell_type": "markdown",
   "id": "c68f9a84-71d6-4af1-b0b9-5d741ff69cf0",
   "metadata": {},
   "source": [
    "### a) Check if error terms are normally distributed"
   ]
  },
  {
   "cell_type": "code",
   "execution_count": 178,
   "id": "28c5c52a-a4f7-44e8-a512-c9c788d52937",
   "metadata": {},
   "outputs": [],
   "source": [
    "residuals = model1.resid  # Residuals (errors)"
   ]
  },
  {
   "cell_type": "code",
   "execution_count": 179,
   "id": "f645d5a3-ea11-41da-8e91-4862635f28ae",
   "metadata": {},
   "outputs": [
    {
     "name": "stderr",
     "output_type": "stream",
     "text": [
      "C:\\Users\\yasha\\anaconda3\\Lib\\site-packages\\seaborn\\_oldcore.py:1119: FutureWarning: use_inf_as_na option is deprecated and will be removed in a future version. Convert inf values to NaN before operating instead.\n",
      "  with pd.option_context('mode.use_inf_as_na', True):\n"
     ]
    },
    {
     "data": {
      "text/plain": [
       "Text(0.5, 1.0, 'Histogram of Residuals')"
      ]
     },
     "execution_count": 179,
     "metadata": {},
     "output_type": "execute_result"
    },
    {
     "data": {
      "image/png": "[encoded data removed]",
      "text/plain": [
       "<Figure size 1200x600 with 1 Axes>"
      ]
     },
     "metadata": {},
     "output_type": "display_data"
    }
   ],
   "source": [
    "# 1. Visual inspection using histogram and Q-Q plot\n",
    "plt.figure(figsize=(12, 6))\n",
    "plt.subplot(1, 2, 1)\n",
    "sns.histplot(residuals, kde=True)\n",
    "plt.title(\"Histogram of Residuals\")"
   ]
  },
  {
   "cell_type": "code",
   "execution_count": 180,
   "id": "69d38c36-05ba-408b-92e0-ff3f15281b0e",
   "metadata": {},
   "outputs": [
    {
     "data": {
      "image/png": "[encoded data removed]",
      "text/plain": [
       "<Figure size 640x480 with 1 Axes>"
      ]
     },
     "metadata": {},
     "output_type": "display_data"
    }
   ],
   "source": [
    "import statsmodels.api as sm\n",
    "import matplotlib.pyplot as plt\n",
    "from scipy.stats import shapiro, jarque_bera\n",
    "\n",
    "# Fit the model\n",
    "X = sm.add_constant(df1[['Price','Mileage','Top_speed']])\n",
    "model1 = sm.OLS(df1['Sales'], X).fit()\n",
    "\n",
    "# Get residuals\n",
    "residuals1 = model1.resid\n",
    "\n",
    "# Q-Q plot\n",
    "sm.qqplot(residuals1, line='s')\n",
    "plt.title('Q-Q Plot of Residuals')\n",
    "plt.show()"
   ]
  },
  {
   "cell_type": "markdown",
   "id": "5ec40fbd-3d27-49a3-a700-ed4cfe6c75ce",
   "metadata": {},
   "source": [
    "#### p-value from these tests is > 0.05, the residuals are assumed to be normally distributed."
   ]
  },
  {
   "cell_type": "code",
   "execution_count": 181,
   "id": "391c0b9b-0fdd-43ca-8e2f-eba7847105d5",
   "metadata": {},
   "outputs": [
    {
     "data": {
      "image/png": "[encoded data removed]",
      "text/plain": [
       "<Figure size 640x480 with 1 Axes>"
      ]
     },
     "metadata": {},
     "output_type": "display_data"
    },
    {
     "name": "stdout",
     "output_type": "stream",
     "text": [
      "Breusch-Pagan test statistic: 7.394947338592958, p-value: 0.060320039874715875\n"
     ]
    }
   ],
   "source": [
    "# Residuals vs. fitted values plot\n",
    "fitted_values = model1.fittedvalues\n",
    "sns.residplot(x=fitted_values, y=residuals1, lowess=True, line_kws={'color': 'black'})\n",
    "plt.title('Residuals vs Fitted Values')\n",
    "plt.show()\n",
    "\n",
    "# Breusch-Pagan test\n",
    "bp_test = het_breuschpagan(residuals1, model1.model.exog)\n",
    "print(f'Breusch-Pagan test statistic: {bp_test[0]}, p-value: {bp_test[1]}')"
   ]
  },
  {
   "cell_type": "markdown",
   "id": "1f78380a-4170-4f3e-b7f9-af9434fe7c39",
   "metadata": {},
   "source": [
    "#### p-value from these tests is > 0.05, the varince at all level of independent variables is constant"
   ]
  },
  {
   "cell_type": "markdown",
   "id": "212bccb8-1239-4077-ad76-1608606c94f3",
   "metadata": {},
   "source": [
    "### b) Input Variables are Independent of Each Other (No Multicollinearity)"
   ]
  },
  {
   "cell_type": "code",
   "execution_count": 182,
   "id": "4223b004-1659-448b-89f5-2498fcd370d1",
   "metadata": {},
   "outputs": [
    {
     "name": "stdout",
     "output_type": "stream",
     "text": [
      "     feature         VIF\n",
      "0      const  115.565519\n",
      "1      Price    1.232176\n",
      "2    Mileage    1.184425\n",
      "3  Top_speed    1.090848\n"
     ]
    }
   ],
   "source": [
    "# Calculate VIF for each independent variable\n",
    "vif_data = pd.DataFrame()\n",
    "vif_data['feature'] = X.columns\n",
    "vif_data['VIF'] = [variance_inflation_factor(X.values, i) for i in range(X.shape[1])]\n",
    "\n",
    "print(vif_data)"
   ]
  },
  {
   "cell_type": "markdown",
   "id": "cf749f3b-59fc-4594-9a03-dfe059ccda56",
   "metadata": {},
   "source": [
    "#### VIF value of all the variables are < 5, there is no exist of multicolinearity."
   ]
  },
  {
   "cell_type": "markdown",
   "id": "9889bc85-43eb-4e26-b605-299dc6c70410",
   "metadata": {},
   "source": [
    "### c) Successive Error Terms are Independent (No Autocorrelation)"
   ]
  },
  {
   "cell_type": "code",
   "execution_count": 183,
   "id": "1dfcd039-a4e4-4865-95f6-febd378e3337",
   "metadata": {},
   "outputs": [
    {
     "name": "stdout",
     "output_type": "stream",
     "text": [
      "Durbin-Watson statistic: 1.649289430373179\n"
     ]
    }
   ],
   "source": [
    "# Durbin-Watson test for autocorrelation\n",
    "dw_stat = durbin_watson(residuals)\n",
    "print(f'Durbin-Watson statistic: {dw_stat}')"
   ]
  },
  {
   "cell_type": "markdown",
   "id": "49cb07c4-b615-476b-93a8-26578896138a",
   "metadata": {},
   "source": [
    "#### Durbin-Watson statistic value is between 1.5 and 2.5 suggests no significant autocorrelation in the residuals."
   ]
  },
  {
   "cell_type": "markdown",
   "id": "234a0881-32e8-4818-a614-928b5b771a2c",
   "metadata": {},
   "source": [
    "### d) Specification Bias (Correct Model Specification)"
   ]
  },
  {
   "cell_type": "code",
   "execution_count": 184,
   "id": "5abd3071-bcd4-4213-9d55-b0d635ad69d7",
   "metadata": {},
   "outputs": [
    {
     "name": "stdout",
     "output_type": "stream",
     "text": [
      "Ramsey RESET test statistic: 0.39196911930681577, p-value: 0.6798051582842561\n"
     ]
    }
   ],
   "source": [
    "# Ramsey RESET test\n",
    "reset_test = reset_ramsey(model1, degree=3)\n",
    "print(f'Ramsey RESET test statistic: {reset_test.fvalue}, p-value: {reset_test.pvalue}')"
   ]
  },
  {
   "cell_type": "markdown",
   "id": "8dafb8ba-33e2-448c-a95e-df268f4cf849",
   "metadata": {},
   "source": [
    "#### p-value is > 0.05, the model is correctly specified"
   ]
  },
  {
   "cell_type": "markdown",
   "id": "1b2d19c5-c66f-4281-a883-42d288a02a77",
   "metadata": {},
   "source": [
    "### Q-5) Based on the sales prediction, calculate the overall projected profit for the Rocinante36 and Marengo32 models, respectively?"
   ]
  },
  {
   "cell_type": "code",
   "execution_count": 185,
   "id": "fd2f7bd4-6f44-4a10-929b-8df077515420",
   "metadata": {},
   "outputs": [],
   "source": [
    "Predicted_sales_Rocinante = 225.29 # in units\n",
    "Price_per_unit_Rocinante = 7  # in lakh rupees\n",
    "Cost_per_unit_Rocinante = 6 # in lakh rupees"
   ]
  },
  {
   "cell_type": "code",
   "execution_count": 186,
   "id": "7f2ff25f-b26e-46a8-bd83-b75080c1bf33",
   "metadata": {},
   "outputs": [],
   "source": [
    "# Calculate revenue and profit for Rocinante36\n",
    "Revenue_Rocinante = Predicted_sales_Rocinante * Price_per_unit_Rocinante \n",
    "Total_costs_Rocinante = Predicted_sales_Rocinante * Cost_per_unit_Rocinante\n",
    "Profit_Rocinante = Revenue_Rocinante - Total_costs_Rocinante"
   ]
  },
  {
   "cell_type": "code",
   "execution_count": 187,
   "id": "d576d7a9-d35d-459c-8749-eaf0c64c20c2",
   "metadata": {},
   "outputs": [],
   "source": [
    "Predicted_sales_Marengo = 25.88 # in units\n",
    "Price_per_unit_Marengo = 41  # in lakh rupees\n",
    "Cost_per_unit_Marengo = 33 # in lakh rupees"
   ]
  },
  {
   "cell_type": "code",
   "execution_count": 188,
   "id": "f0e7987a-eb63-45c4-b2ea-133f93aa6549",
   "metadata": {},
   "outputs": [],
   "source": [
    "# Calculate revenue and profit for Marengo\n",
    "Revenue_Marengo = Predicted_sales_Marengo * Price_per_unit_Marengo\n",
    "Total_costs_Marengo = Predicted_sales_Marengo * Cost_per_unit_Marengo\n",
    "Profit_Marengo = Revenue_Marengo - Total_costs_Marengo"
   ]
  },
  {
   "cell_type": "code",
   "execution_count": 189,
   "id": "68181844-9df7-4bd4-9b8a-d8cd48ae2eda",
   "metadata": {},
   "outputs": [
    {
     "name": "stdout",
     "output_type": "stream",
     "text": [
      "Overall Predicted Profit for Rocinante36 Model: 225.29 lakh rupees\n",
      "Overall Predicted Profit for Marengo32 Model: 207.04 lakh rupees\n"
     ]
    }
   ],
   "source": [
    "# Display the results\n",
    "print(f\"Overall Predicted Profit for Rocinante36 Model: {Profit_Rocinante:.2f} lakh rupees\")\n",
    "print(f\"Overall Predicted Profit for Marengo32 Model: {Profit_Marengo:.2f} lakh rupees\")"
   ]
  },
  {
   "cell_type": "markdown",
   "id": "161f5f94-7f38-4756-aad7-95dc8eeb6bba",
   "metadata": {},
   "source": [
    "### Q-7) You must have developed the regression equation for both the models, Rocinante36 and Marengo32. Suppose you increase the price of Rocinante36 and Marengo32 by ₹1 lakh each. Which of the two models will have to see a higher impact on sales numbers? Provide proper logic for your answer. (Note: You can assume that all the other specifications, such as mileage and top speed, are the same for both models.)"
   ]
  },
  {
   "cell_type": "code",
   "execution_count": 190,
   "id": "19f3d11a-8ab1-4022-80c8-f293a1292764",
   "metadata": {},
   "outputs": [],
   "source": [
    "# Coefficients for Rocinante36\n",
    "Price_Rocinante = -0.7950 \n",
    "# Coefficients for Marengo32\n",
    "Price_Marengo = -0.1867"
   ]
  },
  {
   "cell_type": "code",
   "execution_count": 191,
   "id": "d792fe92-a03c-49c2-aaec-7708bdf331ac",
   "metadata": {},
   "outputs": [],
   "source": [
    "# Price increase\n",
    "price_increase = 1  # 1 lakh rupees"
   ]
  },
  {
   "cell_type": "code",
   "execution_count": 192,
   "id": "92cf2f30-cbdc-4cb2-a454-f8b7d01c7c6f",
   "metadata": {},
   "outputs": [],
   "source": [
    "# Calculate expected change in sales\n",
    "Change_in_sales_Rocinante = Price_Rocinante * price_increase\n",
    "Change_in_sales_Marengo = Price_Marengo * price_increase"
   ]
  },
  {
   "cell_type": "code",
   "execution_count": 193,
   "id": "e5158f4a-5e9d-4912-8f89-c9b493e67a08",
   "metadata": {},
   "outputs": [
    {
     "name": "stdout",
     "output_type": "stream",
     "text": [
      "Expected Change in Sales for Rocinante36 due to price increase: -0.80 units\n",
      "Expected Change in Sales for Marengo32 due to price increase: -0.19 units\n"
     ]
    }
   ],
   "source": [
    "# Display the results\n",
    "print(f\"Expected Change in Sales for Rocinante36 due to price increase: {Change_in_sales_Rocinante:.2f} units\")\n",
    "print(f\"Expected Change in Sales for Marengo32 due to price increase: {Change_in_sales_Marengo:.2f} units\")"
   ]
  },
  {
   "cell_type": "code",
   "execution_count": 194,
   "id": "c5fc6062-92e3-4dc8-8022-0170a322a757",
   "metadata": {},
   "outputs": [
    {
     "name": "stdout",
     "output_type": "stream",
     "text": [
      "Rocinante36 is more affected by the price increase.\n"
     ]
    }
   ],
   "source": [
    "# Determine which model is more affected\n",
    "if abs(Change_in_sales_Rocinante ) > abs(Change_in_sales_Marengo):\n",
    "    print(\"Rocinante36 is more affected by the price increase.\")\n",
    "else:\n",
    "    print(\"Marengo32 is more affected by the price increase.\")"
   ]
  },
  {
   "cell_type": "markdown",
   "id": "1c0d389e-a388-423b-ac61-7af699f90fab",
   "metadata": {},
   "source": [
    "### Q-8) After developing the regression equation for both the models (Rocinante36 and Marengo32), if you analyse the p-values for the coefficients in the regression results, you will notice that some of the regression variables (top speed, mileage and price) are insignificant. Drop the insignificant regression variables and rebuild the regression model using only significant variables. Compare the adjusted R-squared value for both the new and the old regression models. Do you notice any change in the adjusted R-squared value? If yes, explain the reason for the change"
   ]
  },
  {
   "cell_type": "markdown",
   "id": "28152e59-6ac6-459f-93ed-43cde9a245dc",
   "metadata": {},
   "source": [
    "#### For Rocinante model"
   ]
  },
  {
   "cell_type": "code",
   "execution_count": 195,
   "id": "0a1a101a-3fe9-4289-ae0d-771b651c8033",
   "metadata": {},
   "outputs": [],
   "source": [
    "# Define independent variables (Price, Mileage)\n",
    "X = df[[\"Price\", \"Mileage\"]]\n",
    "X = sm.add_constant(X)  # Add a constant (intercept term)"
   ]
  },
  {
   "cell_type": "code",
   "execution_count": 196,
   "id": "6bd2644e-0d2b-40f8-adc4-526e96c7e4aa",
   "metadata": {},
   "outputs": [],
   "source": [
    "# Define the dependent variable (Sales)\n",
    "y = df[\"Sales\"]"
   ]
  },
  {
   "cell_type": "code",
   "execution_count": 197,
   "id": "3377d722-3dbd-42e8-a7a4-9dbaac1b8609",
   "metadata": {},
   "outputs": [],
   "source": [
    "# Fit the regression model\n",
    "model = sm.OLS(y, X).fit()"
   ]
  },
  {
   "cell_type": "code",
   "execution_count": 198,
   "id": "4fbd03fa-c1df-456f-93fe-12fc22b050ab",
   "metadata": {},
   "outputs": [
    {
     "name": "stdout",
     "output_type": "stream",
     "text": [
      "                            OLS Regression Results                            \n",
      "==============================================================================\n",
      "Dep. Variable:                  Sales   R-squared:                       0.996\n",
      "Model:                            OLS   Adj. R-squared:                  0.995\n",
      "Method:                 Least Squares   F-statistic:                     3718.\n",
      "Date:                Sun, 27 Oct 2024   Prob (F-statistic):           1.29e-38\n",
      "Time:                        13:23:48   Log-Likelihood:                -77.017\n",
      "No. Observations:                  35   AIC:                             160.0\n",
      "Df Residuals:                      32   BIC:                             164.7\n",
      "Df Model:                           2                                         \n",
      "Covariance Type:            nonrobust                                         \n",
      "==============================================================================\n",
      "                 coef    std err          t      P>|t|      [0.025      0.975]\n",
      "------------------------------------------------------------------------------\n",
      "const         47.7800      2.113     22.608      0.000      43.475      52.085\n",
      "Price         -0.7829      0.251     -3.119      0.004      -1.294      -0.272\n",
      "Mileage        8.2945      0.097     85.257      0.000       8.096       8.493\n",
      "==============================================================================\n",
      "Omnibus:                        1.906   Durbin-Watson:                   1.656\n",
      "Prob(Omnibus):                  0.386   Jarque-Bera (JB):                1.567\n",
      "Skew:                           0.509   Prob(JB):                        0.457\n",
      "Kurtosis:                       2.805   Cond. No.                         91.0\n",
      "==============================================================================\n",
      "\n",
      "Notes:\n",
      "[1] Standard Errors assume that the covariance matrix of the errors is correctly specified.\n"
     ]
    }
   ],
   "source": [
    "# Display the regression results\n",
    "print(model.summary())"
   ]
  },
  {
   "cell_type": "markdown",
   "id": "8d1066d6-960b-463a-b9a1-f4bb4107597e",
   "metadata": {},
   "source": [
    "#### adjusted R Sqaure value of Rocinante36 model before and after remain same that is 0.995 and 0.995 respectively.\n",
    "#### In the Rocinante36 model,the adjusted R-squared value did not change, suggesting the insignificant variables had no substantial impact on the model's performance."
   ]
  },
  {
   "cell_type": "markdown",
   "id": "dd501e61-39eb-4895-8a33-e45c8c9da4c3",
   "metadata": {},
   "source": [
    "#### For Marengo model"
   ]
  },
  {
   "cell_type": "code",
   "execution_count": 199,
   "id": "739e76c8-491c-441d-b368-e11125455ebb",
   "metadata": {},
   "outputs": [],
   "source": [
    "# Define independent variables (Price,Top speed)\n",
    "X = df1[[\"Price\", \"Top_speed\"]]\n",
    "X = sm.add_constant(X)  # Add a constant (intercept term)"
   ]
  },
  {
   "cell_type": "code",
   "execution_count": 200,
   "id": "bb11eb80-04f5-4e4a-bae6-b3699929db94",
   "metadata": {},
   "outputs": [],
   "source": [
    "# Define the dependent variable (Sales)\n",
    "y = df1[\"Sales\"]"
   ]
  },
  {
   "cell_type": "code",
   "execution_count": 201,
   "id": "3adf55ae-e8c0-4cff-887c-fba4d2c5ed01",
   "metadata": {},
   "outputs": [],
   "source": [
    "# Fit the regression model\n",
    "model = sm.OLS(y, X).fit()"
   ]
  },
  {
   "cell_type": "code",
   "execution_count": 202,
   "id": "a1fa2487-f48b-4641-a146-f795d7e029e3",
   "metadata": {},
   "outputs": [
    {
     "name": "stdout",
     "output_type": "stream",
     "text": [
      "                            OLS Regression Results                            \n",
      "==============================================================================\n",
      "Dep. Variable:                  Sales   R-squared:                       0.863\n",
      "Model:                            OLS   Adj. R-squared:                  0.853\n",
      "Method:                 Least Squares   F-statistic:                     88.10\n",
      "Date:                Sun, 27 Oct 2024   Prob (F-statistic):           8.30e-13\n",
      "Time:                        13:23:48   Log-Likelihood:                -67.779\n",
      "No. Observations:                  31   AIC:                             141.6\n",
      "Df Residuals:                      28   BIC:                             145.9\n",
      "Df Model:                           2                                         \n",
      "Covariance Type:            nonrobust                                         \n",
      "==============================================================================\n",
      "                 coef    std err          t      P>|t|      [0.025      0.975]\n",
      "------------------------------------------------------------------------------\n",
      "const        -12.9701      3.694     -3.511      0.002     -20.536      -5.404\n",
      "Price         -0.1825      0.050     -3.627      0.001      -0.286      -0.079\n",
      "Top_speed      0.2201      0.017     13.254      0.000       0.186       0.254\n",
      "==============================================================================\n",
      "Omnibus:                        2.394   Durbin-Watson:                   1.650\n",
      "Prob(Omnibus):                  0.302   Jarque-Bera (JB):                1.258\n",
      "Skew:                          -0.059   Prob(JB):                        0.533\n",
      "Kurtosis:                       2.020   Cond. No.                     1.94e+03\n",
      "==============================================================================\n",
      "\n",
      "Notes:\n",
      "[1] Standard Errors assume that the covariance matrix of the errors is correctly specified.\n",
      "[2] The condition number is large, 1.94e+03. This might indicate that there are\n",
      "strong multicollinearity or other numerical problems.\n"
     ]
    }
   ],
   "source": [
    "# Display the regression results\n",
    "print(model.summary())"
   ]
  },
  {
   "cell_type": "markdown",
   "id": "9457f671-bbd9-4ae5-805f-e7871c56f441",
   "metadata": {},
   "source": [
    "#### adjusted R Sqaure value of Marengo32 model before and removing insignificant variables: 0.848 and 0.853 respectively\n",
    "#### In the Marengo32 model, the adjusted R-squared value increased, indicating that the significant variables were more effective at explaining the variation in the dependent variable without the presence of insignificant variables."
   ]
  },
  {
   "cell_type": "markdown",
   "id": "216b98aa-fadc-4fd7-b7fd-0e4c5f11eca5",
   "metadata": {},
   "source": [
    "### Q-9) Check the RMSE for both train and test data for any one of the model"
   ]
  },
  {
   "cell_type": "markdown",
   "id": "e1be070a-435b-4f6a-8ac8-803962a87ca9",
   "metadata": {},
   "source": [
    "#### Correlation matrix for the Rocinante model"
   ]
  },
  {
   "cell_type": "code",
   "execution_count": 203,
   "id": "6748b1a9-5d9c-483d-9df6-6bd1c9a0716d",
   "metadata": {},
   "outputs": [],
   "source": [
    "df2 = df.select_dtypes(include=[float, int])  # Keeps only numeric columns"
   ]
  },
  {
   "cell_type": "code",
   "execution_count": 204,
   "id": "7a31459c-95b1-46b8-8f47-7b823521e877",
   "metadata": {},
   "outputs": [],
   "source": [
    "correlation_matrix = df2.corr()"
   ]
  },
  {
   "cell_type": "code",
   "execution_count": 205,
   "id": "0d7748b5-1977-40c4-b05c-360fedcecdf7",
   "metadata": {},
   "outputs": [
    {
     "data": {
      "image/png": "[encoded data removed]",
      "text/plain": [
       "<Figure size 1000x600 with 2 Axes>"
      ]
     },
     "metadata": {},
     "output_type": "display_data"
    }
   ],
   "source": [
    "plt.figure(figsize=(10, 6))\n",
    "sns.heatmap(\n",
    "    correlation_matrix, \n",
    "    annot=True, \n",
    "    cmap=\"YlGnBu\",  # Different colormap\n",
    "    linewidths=0.8, \n",
    "    vmin=-1, vmax=1,  # Ensure full range of correlations (-1 to 1)\n",
    "    annot_kws={\"size\": 10}  # Adjust annotation text size\n",
    ")\n",
    "plt.title(\"Customized Correlation Heatmap\", fontsize=15)\n",
    "plt.show()"
   ]
  },
  {
   "cell_type": "markdown",
   "id": "f02c1de1-4c41-4cb8-92e3-3aff4692a58f",
   "metadata": {},
   "source": [
    "#### Root Mean Square Error (RMSE) for Rocinante model"
   ]
  },
  {
   "cell_type": "code",
   "execution_count": 206,
   "id": "c712f2fa-1e52-44a9-a188-45c50fbd7161",
   "metadata": {},
   "outputs": [],
   "source": [
    "from sklearn.model_selection import train_test_split\n",
    "from sklearn.linear_model import LinearRegression\n",
    "from sklearn.metrics import mean_squared_error, r2_score"
   ]
  },
  {
   "cell_type": "code",
   "execution_count": 207,
   "id": "646c4af8-f438-48cb-a2c7-dd170c532e03",
   "metadata": {},
   "outputs": [],
   "source": [
    "X = df1[['Price', 'Mileage', 'Top_speed']]  # Features\n",
    "y = df1['Sales']  # Target variable"
   ]
  },
  {
   "cell_type": "code",
   "execution_count": 208,
   "id": "bc5ece46-1d0a-47b8-ad54-ec2472268bc8",
   "metadata": {},
   "outputs": [],
   "source": [
    "# Splitting the data into training and testing sets\n",
    "X_train, X_test, y_train, y_test = train_test_split(X, y, test_size=0.3, random_state=100)"
   ]
  },
  {
   "cell_type": "code",
   "execution_count": 213,
   "id": "bde5a3a4-04c9-4e24-aacf-e0f641bb3034",
   "metadata": {},
   "outputs": [],
   "source": [
    "# Predict on Train and Test data\n",
    "y_train_pred = model.predict(X_train)\n",
    "y_test_pred = model.predict(X_test)"
   ]
  },
  {
   "cell_type": "code",
   "execution_count": 214,
   "id": "81b538a6-c1be-4e19-ae2e-a5d5e6a18233",
   "metadata": {},
   "outputs": [],
   "source": [
    "from sklearn.metrics import mean_squared_error"
   ]
  },
  {
   "cell_type": "code",
   "execution_count": 215,
   "id": "267340d5-c0fd-41bc-bfc0-0bd9a5d32b4b",
   "metadata": {},
   "outputs": [],
   "source": [
    "# Calculate RMSE for Train and Test sets\n",
    "train_rmse = np.sqrt(mean_squared_error(y_train, y_train_pred))\n",
    "test_rmse = np.sqrt(mean_squared_error(y_test, y_test_pred))"
   ]
  },
  {
   "cell_type": "code",
   "execution_count": 216,
   "id": "73fb6a25-ea51-4892-bd55-3c0b5cc293c1",
   "metadata": {},
   "outputs": [
    {
     "name": "stdout",
     "output_type": "stream",
     "text": [
      "Train RMSE: 2.1803\n",
      "Test RMSE: 2.3118\n"
     ]
    }
   ],
   "source": [
    "print(f'Train RMSE: {train_rmse:.4f}')\n",
    "print(f'Test RMSE: {test_rmse:.4f}')"
   ]
  },
  {
   "cell_type": "markdown",
   "id": "2ab93e52-6f87-4d28-b442-c50113c1ce79",
   "metadata": {},
   "source": [
    "#### Test RMSE (2.3118) is slightly higher than the Train RMSE (2.1803), the model performs slightly better on the training data, indicating mild overfitting. Since , the difference is not large, the model generalizes reasonably well without severe underfitting."
   ]
  },
  {
   "cell_type": "code",
   "execution_count": null,
   "id": "cf6af7bf-3861-45f4-9680-f5e89c387208",
   "metadata": {},
   "outputs": [],
   "source": []
  }
 ],
 "metadata": {
  "kernelspec": {
   "display_name": "Python 3 (ipykernel)",
   "language": "python",
   "name": "python3"
  },
  "language_info": {
   "codemirror_mode": {
    "name": "ipython",
    "version": 3
   },
   "file_extension": ".py",
   "mimetype": "text/x-python",
   "name": "python",
   "nbconvert_exporter": "python",
   "pygments_lexer": "ipython3",
   "version": "3.11.5"
  }
 },
 "nbformat": 4,
 "nbformat_minor": 5
}
